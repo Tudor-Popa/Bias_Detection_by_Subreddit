{
 "cells": [
  {
   "cell_type": "code",
   "execution_count": 1,
   "metadata": {},
   "outputs": [],
   "source": [
    "import gensim\n",
    "from gensim.models import Word2Vec\n",
    "\n",
    "import pandas as pd\n",
    "import numpy as np\n",
    "from sklearn.manifold import TSNE\n",
    "\n",
    "\n",
    "import matplotlib.pyplot as plt\n",
    "plt.style.use('dark_background')\n",
    "%matplotlib inline\n",
    "\n",
    "from nltk.corpus import wordnet\n",
    "\n",
    "from sklearn.decomposition import PCA\n",
    "\n",
    "import gensim\n",
    "from gensim.models import KeyedVectors\n",
    "from gensim.models import Word2Vec\n",
    "\n",
    "from os import walk"
   ]
  },
  {
   "cell_type": "code",
   "execution_count": 2,
   "metadata": {},
   "outputs": [],
   "source": [
    "from src.modules.Interpretation import *"
   ]
  },
  {
   "cell_type": "code",
   "execution_count": 3,
   "metadata": {},
   "outputs": [],
   "source": [
    "from wefe.datasets import (\n",
    "    load_weat,\n",
    "    fetch_eds,\n",
    "    fetch_debias_multiclass,\n",
    "    fetch_debiaswe,\n",
    "    load_bingliu,\n",
    ")\n",
    "from wefe.query import Query\n",
    "from wefe.word_embedding_model import WordEmbeddingModel\n",
    "from wefe.metrics import WEAT, RNSB, RND\n",
    "\n",
    "\n",
    "from wefe.utils import (\n",
    "    run_queries,\n",
    "    plot_queries_results,\n",
    "    create_ranking,\n",
    "    plot_ranking,\n",
    "    calculate_ranking_correlations,\n",
    "    plot_ranking_correlations,\n",
    ")"
   ]
  },
  {
   "cell_type": "code",
   "execution_count": 20,
   "metadata": {},
   "outputs": [],
   "source": [
    "# load 'Pre-Trained Models\\GoogleNews-vectors-negative300.bin.gz'\n",
    "gnW2V = gensim.models.KeyedVectors.load_word2vec_format(\n",
    "    'Pre-Trained Models\\GoogleNews-vectors-negative300.bin.gz', binary=True)"
   ]
  },
  {
   "cell_type": "code",
   "execution_count": 7,
   "metadata": {},
   "outputs": [],
   "source": [
    "#load 'Pre-Trained Models\\glove.6B.300d.txt'\n",
    "glove = gensim.models.KeyedVectors.load_word2vec_format(\n",
    "    'Pre-Trained Models\\glove.840B.300d.txt', no_header=True, binary=False)"
   ]
  },
  {
   "cell_type": "code",
   "execution_count": 4,
   "metadata": {},
   "outputs": [],
   "source": [
    "# LOOK INTO most_similar_cosmul(positive=None, negative=None, topn=10)\n",
    "# WORD MOVERS DISTANCE\n"
   ]
  },
  {
   "cell_type": "code",
   "execution_count": 4,
   "metadata": {},
   "outputs": [],
   "source": [
    "def load_model(model_name):\n",
    "    return gensim.models.KeyedVectors.load_word2vec_format(model_name)"
   ]
  },
  {
   "cell_type": "code",
   "execution_count": 104,
   "metadata": {},
   "outputs": [
    {
     "data": {
      "text/plain": [
       "['askmen.bin',\n",
       " 'askreddit.bin',\n",
       " 'askwomen.bin',\n",
       " 'atheism.bin',\n",
       " 'canada.bin',\n",
       " 'christianity.bin',\n",
       " 'dota2.bin',\n",
       " 'onguardforthee.bin',\n",
       " 'politics.bin',\n",
       " 'trollxchromosomes.bin',\n",
       " 'twoxchromosomes.bin']"
      ]
     },
     "execution_count": 104,
     "metadata": {},
     "output_type": "execute_result"
    }
   ],
   "source": [
    "models = next(walk('Generated_Models/'), (None, None, []))[2]  # [] if no file\n",
    "models"
   ]
  },
  {
   "cell_type": "code",
   "execution_count": 96,
   "metadata": {},
   "outputs": [],
   "source": [
    "df = pd.DataFrame()\n",
    "df['model'] = np.nan"
   ]
  },
  {
   "cell_type": "code",
   "execution_count": 99,
   "metadata": {},
   "outputs": [
    {
     "name": "stdout",
     "output_type": "stream",
     "text": [
      "askmen\n",
      "2892 words not in model\n",
      "askreddit\n",
      "2997 words not in model\n",
      "askscience\n",
      "5327 words not in model\n"
     ]
    },
    {
     "name": "stderr",
     "output_type": "stream",
     "text": [
      "WARNING:root:The transformation of 'female_terms' into askscience embeddings lost proportionally more words than specified in 'lost_words_threshold': 0.41 lost with respect to 0.4 maximum loss allowed.\n",
      "ERROR:root:At least one set of 'male_terms and female_terms wrt Positive and Negative' query has proportionally fewer embeddings than allowed by the lost_vocabulary_threshold parameter (0.4). This query will return np.nan.\n",
      "WARNING:root:The transformation of 'female_terms' into askscience embeddings lost proportionally more words than specified in 'lost_words_threshold': 0.41 lost with respect to 0.4 maximum loss allowed.\n",
      "ERROR:root:At least one set of 'male_terms and female_terms wrt pleasant_9 and unpleasant_9' query has proportionally fewer embeddings than allowed by the lost_vocabulary_threshold parameter (0.4). This query will return np.nan.\n"
     ]
    },
    {
     "name": "stdout",
     "output_type": "stream",
     "text": [
      "askwomen\n",
      "3237 words not in model\n",
      "atheism\n",
      "3237 words not in model\n",
      "canada\n",
      "2985 words not in model\n",
      "christianity\n",
      "2746 words not in model\n",
      "dota2\n",
      "4012 words not in model\n",
      "onguardforthee\n",
      "4228 words not in model\n",
      "politics\n",
      "2667 words not in model\n",
      "trollxchromosomes\n",
      "4798 words not in model\n",
      "twoxchromosomes\n",
      "2935 words not in model\n"
     ]
    }
   ],
   "source": [
    "for i in models:\n",
    "    model = load_model('Generated_Models/'+i)\n",
    "    print(i[:-4])\n",
    "    dffill = filter_datasets(model)\n",
    "    flowers,insects,pleasant_5,unpleasant_5,instruments,weapons,european_american_names_5,\\\n",
    "        african_american_names_5,european_american_names_7,african_american_names_7,pleasant_9,unpleasant_9,\\\n",
    "        male_names,female_names,career,family,math,arts,male_terms,female_terms,science,arts_2,male_terms_2,\\\n",
    "        female_terms_2,mental_disease,physical_disease,temporary,permanent,young_people_names,old_people_names,\\\n",
    "        adjectives_appearance,adjectives_otherization,adjectives_sensitive,names_asian,names_black,names_chinese,\\\n",
    "        names_hispanic,names_russian,names_white,words_christianity,words_islam,words_terrorism,male_occupations,female_occupations,\\\n",
    "        occupations_white,occupations_black,occupations_asian,occupations_hispanic,adjectives_intelligence,positive_words,negative_words = redefine_categories(dffill)\n",
    "    \n",
    "    metric = WEAT()\n",
    "    WEM = WordEmbeddingModel(model, i[:-4])\n",
    "    \n",
    "    query123 = generate_query(flowers, insects, positive_words, negative_words, \"flowers\", 'insects', 'Positive', 'Negative')\n",
    "    result = metric.run_query(query=query123,\n",
    "            model=WEM,\n",
    "            return_effect_size=True, \n",
    "            lost_vocabulary_threshold= 0.4\n",
    "        )\n",
    "    df = df.append(result, ignore_index=True)\n",
    "\n",
    "    query123 = generate_query(flowers, insects, pleasant_5, unpleasant_5, \"flowers\", 'insects', 'pleasant_5', 'unpleasant_5')\n",
    "    result = metric.run_query(query=query123,\n",
    "            model=WEM,\n",
    "            return_effect_size=True, \n",
    "            lost_vocabulary_threshold= 0.4\n",
    "        )\n",
    "    df = df.append(result, ignore_index=True)\n",
    "\n",
    "\n",
    "    query123 = generate_query(male_terms_2, female_terms_2, positive_words, negative_words, \"male_terms_2\", 'female_terms_2', 'Positive', 'Negative')\n",
    "    result = metric.run_query(query=query123,\n",
    "            model=WEM,\n",
    "            return_effect_size=True, \n",
    "            lost_vocabulary_threshold= 0.4\n",
    "        )\n",
    "    df = df.append(result, ignore_index=True)\n",
    "\n",
    "    query123 = generate_query(male_terms, female_terms, positive_words, negative_words, \"male_terms\", 'female_terms', 'Positive', 'Negative')\n",
    "    result = metric.run_query(query=query123,\n",
    "            model=WEM,\n",
    "            return_effect_size=True, \n",
    "            lost_vocabulary_threshold= 0.4\n",
    "        )\n",
    "    df = df.append(result, ignore_index=True)\n",
    "\n",
    "    query123 = generate_query(male_terms_2, female_terms_2, pleasant_9, unpleasant_9, \"male_terms_2\", 'female_terms_2', 'pleasant_9', 'unpleasant_9')\n",
    "    result = metric.run_query(query=query123,\n",
    "            model=WEM,\n",
    "            return_effect_size=True, \n",
    "            lost_vocabulary_threshold= 0.4\n",
    "        )\n",
    "    df = df.append(result, ignore_index=True)\n",
    "\n",
    "    query123 = generate_query(male_terms, female_terms, pleasant_9, unpleasant_9, \"male_terms\", 'female_terms', 'pleasant_9', 'unpleasant_9')\n",
    "    result = metric.run_query(query=query123,\n",
    "            model=WEM,\n",
    "            return_effect_size=True, \n",
    "            lost_vocabulary_threshold= 0.4\n",
    "        )\n",
    "    df = df.append(result, ignore_index=True)\n",
    "\n",
    "    query123 = generate_query(male_names, female_names, positive_words, negative_words, \"male_names\", 'female_names', 'positive_words', 'negative_words')\n",
    "    result = metric.run_query(query=query123,\n",
    "            model=WEM,\n",
    "            return_effect_size=True, \n",
    "            lost_vocabulary_threshold= 0.4\n",
    "        )\n",
    "    df = df.append(result, ignore_index=True)\n",
    "\n",
    "    query123 = generate_query(male_terms_2, female_terms_2, pleasant_9, unpleasant_9, \"male_names\", 'female_names', 'pleasant_9', 'unpleasant_9')\n",
    "    result = metric.run_query(query=query123,\n",
    "            model=WEM,\n",
    "            return_effect_size=True, \n",
    "            lost_vocabulary_threshold= 0.4\n",
    "        )\n",
    "    df = df.append(result, ignore_index=True)\n",
    "    df['model'] = df['model'].fillna(i[:-4])\n",
    "    \n",
    "    "
   ]
  },
  {
   "cell_type": "code",
   "execution_count": 107,
   "metadata": {},
   "outputs": [
    {
     "name": "stdout",
     "output_type": "stream",
     "text": [
      "askmen\n",
      "2892 words not in model\n",
      "askreddit\n",
      "2997 words not in model\n",
      "askwomen\n",
      "3237 words not in model\n",
      "atheism\n",
      "3237 words not in model\n",
      "canada\n",
      "2985 words not in model\n",
      "christianity\n",
      "2746 words not in model\n",
      "dota2\n",
      "4012 words not in model\n",
      "onguardforthee\n",
      "4228 words not in model\n",
      "politics\n",
      "2667 words not in model\n",
      "trollxchromosomes\n",
      "4798 words not in model\n",
      "twoxchromosomes\n",
      "2935 words not in model\n"
     ]
    }
   ],
   "source": [
    "df = pd.DataFrame()\n",
    "df['model'] = np.nan\n",
    "\n",
    "for i in models:\n",
    "    model = load_model('Generated_Models/'+i)\n",
    "    print(i[:-4])\n",
    "    dffill = filter_datasets(model)\n",
    "    flowers,insects,pleasant_5,unpleasant_5,instruments,weapons,european_american_names_5,\\\n",
    "        african_american_names_5,european_american_names_7,african_american_names_7,pleasant_9,unpleasant_9,\\\n",
    "        male_names,female_names,career,family,math,arts,male_terms,female_terms,science,arts_2,male_terms_2,\\\n",
    "        female_terms_2,mental_disease,physical_disease,temporary,permanent,young_people_names,old_people_names,\\\n",
    "        adjectives_appearance,adjectives_otherization,adjectives_sensitive,names_asian,names_black,names_chinese,\\\n",
    "        names_hispanic,names_russian,names_white,words_christianity,words_islam,words_terrorism,male_occupations,female_occupations,\\\n",
    "        occupations_white,occupations_black,occupations_asian,occupations_hispanic,adjectives_intelligence,positive_words,negative_words = redefine_categories(dffill)\n",
    "    \n",
    "    metric = WEAT()\n",
    "    WEM = WordEmbeddingModel(model, i[:-4])\n",
    "    \n",
    "    query123 = generate_query(words_islam, words_christianity, positive_words, negative_words, \"words_islam\", 'words_christianity', 'Positive', 'Negative')\n",
    "    result = metric.run_query(query=query123,\n",
    "            model=WEM,\n",
    "            return_effect_size=True, \n",
    "            lost_vocabulary_threshold= 0.4\n",
    "        )\n",
    "    df = df.append(result, ignore_index=True)\n",
    "\n",
    "    # query123 = generate_query(young_people_names, old_people_names, positive_words, negative_words, \"young_people_names\", 'old_people_names', 'Positive', 'Negative')\n",
    "    # result = metric.run_query(query=query123,\n",
    "    #         model=WEM,\n",
    "    #         return_effect_size=True, \n",
    "    #         lost_vocabulary_threshold= 0.4\n",
    "    #     )\n",
    "    # df = df.append(result, ignore_index=True)\n",
    "\n",
    "\n",
    "    query123 = generate_query(career, family, positive_words, negative_words, \"career\", 'family', 'Positive', 'Negative')\n",
    "    result = metric.run_query(query=query123,\n",
    "            model=WEM,\n",
    "            return_effect_size=True, \n",
    "            lost_vocabulary_threshold= 0.4\n",
    "        )\n",
    "    df = df.append(result, ignore_index=True)\n",
    "\n",
    "    query123 = generate_query(science, arts, positive_words, negative_words, \"science\", 'arts', 'Positive', 'Negative')\n",
    "    result = metric.run_query(query=query123,\n",
    "            model=WEM,\n",
    "            return_effect_size=True, \n",
    "            lost_vocabulary_threshold= 0.4\n",
    "        )\n",
    "    df = df.append(result, ignore_index=True)\n",
    "\n",
    "    query123 = generate_query(male_occupations, female_occupations, positive_words, negative_words, \"male_occupations\", 'female_occupations','Positive', 'Negative')\n",
    "    result = metric.run_query(query=query123,\n",
    "            model=WEM,\n",
    "            return_effect_size=True, \n",
    "            lost_vocabulary_threshold= 0.4\n",
    "        )\n",
    "    df = df.append(result, ignore_index=True)\n",
    "\n",
    "    query123 = generate_query(temporary, permanent, positive_words, negative_words, \"temporary\", 'permanent','Positive', 'Negative')\n",
    "    result = metric.run_query(query=query123,\n",
    "            model=WEM,\n",
    "            return_effect_size=True, \n",
    "            lost_vocabulary_threshold= 0.4\n",
    "        )\n",
    "    df = df.append(result, ignore_index=True)\n",
    "\n",
    "    df['model'] = df['model'].fillna(i[:-4])\n",
    "    \n",
    "df.to_excel('Results/WEM_results.xlsx')"
   ]
  },
  {
   "cell_type": "code",
   "execution_count": 101,
   "metadata": {},
   "outputs": [
    {
     "data": {
      "text/plain": [
       "['john', 'paul', 'mike', 'kevin', 'steve', 'greg', 'jeff', 'bill']"
      ]
     },
     "execution_count": 101,
     "metadata": {},
     "output_type": "execute_result"
    }
   ],
   "source": [
    "male_names"
   ]
  },
  {
   "cell_type": "code",
   "execution_count": 108,
   "metadata": {},
   "outputs": [
    {
     "data": {
      "text/plain": [
       "['brother', 'father', 'uncle', 'grandfather', 'son', 'he', 'his', 'him']"
      ]
     },
     "execution_count": 108,
     "metadata": {},
     "output_type": "execute_result"
    }
   ],
   "source": [
    "male_terms_2"
   ]
  },
  {
   "cell_type": "code",
   "execution_count": 111,
   "metadata": {},
   "outputs": [
    {
     "data": {
      "text/plain": [
       "['sister', 'mother', 'aunt', 'grandmother', 'daughter', 'she', 'hers', 'her']"
      ]
     },
     "execution_count": 111,
     "metadata": {},
     "output_type": "execute_result"
    }
   ],
   "source": [
    "female_terms_2"
   ]
  },
  {
   "cell_type": "code",
   "execution_count": 86,
   "metadata": {},
   "outputs": [],
   "source": [
    "def generate_query(target1, target2, attribute1, attribute2, target1name, target2name, attribute1name, attribute2name):\n",
    "    target_sets = [target1, target2]\n",
    "    target_sets_names = [target1name, target2name]\n",
    "    attribute_sets = [attribute1, attribute2]\n",
    "    attribute_sets_names = [attribute1name, attribute2name]\n",
    "    return Query(target_sets, attribute_sets, target_sets_names, attribute_sets_names)\n",
    "    "
   ]
  },
  {
   "cell_type": "code",
   "execution_count": null,
   "metadata": {},
   "outputs": [
    {
     "name": "stdout",
     "output_type": "stream",
     "text": [
      "{'query_name': 'male and female wrt pleasant_9 and unpleasant_9', 'result': -0.670187527032259, 'weat': -0.1992784000467509, 'effect_size': -0.670187527032259, 'p_value': nan}\n"
     ]
    }
   ],
   "source": [
    "metric = WEAT()\n",
    "result = metric.run_query(\n",
    "    query3,\n",
    "    askmen_WEM,\n",
    "    return_effect_size=True, \n",
    "    lost_vocabulary_threshold= 0.4\n",
    "    )\n",
    "print(result)"
   ]
  },
  {
   "cell_type": "code",
   "execution_count": 6,
   "metadata": {},
   "outputs": [
    {
     "name": "stdout",
     "output_type": "stream",
     "text": [
      "2892 words not in model\n"
     ]
    }
   ],
   "source": [
    "askmen_model = load_model('Generated_Models/askmen.bin')\n",
    "df = filter_datasets(askmen_model)"
   ]
  },
  {
   "cell_type": "code",
   "execution_count": 11,
   "metadata": {},
   "outputs": [
    {
     "data": {
      "text/plain": [
       "['cashier',\n",
       " 'bartender',\n",
       " 'teacher',\n",
       " 'baker',\n",
       " 'dancer',\n",
       " 'nutritionist',\n",
       " 'broker',\n",
       " 'dietitian',\n",
       " 'author',\n",
       " 'entertainer',\n",
       " 'economist',\n",
       " 'nurse',\n",
       " 'secretary',\n",
       " 'clerical',\n",
       " 'therapist',\n",
       " 'technician',\n",
       " 'veterinarian',\n",
       " 'attendant',\n",
       " 'janitor',\n",
       " 'weaver',\n",
       " 'musician',\n",
       " 'waitstaff',\n",
       " 'psychologist',\n",
       " 'designer',\n",
       " 'pharmacist',\n",
       " 'librarian',\n",
       " 'accountant',\n",
       " 'administrator',\n",
       " 'housekeeper']"
      ]
     },
     "execution_count": 11,
     "metadata": {},
     "output_type": "execute_result"
    }
   ],
   "source": [
    "female_occupations"
   ]
  },
  {
   "cell_type": "code",
   "execution_count": 8,
   "metadata": {},
   "outputs": [],
   "source": [
    "flowers,insects,pleasant_5,unpleasant_5,instruments,weapons,european_american_names_5,\\\n",
    "    african_american_names_5,european_american_names_7,african_american_names_7,pleasant_9,unpleasant_9,\\\n",
    "    male_names,female_names,career,family,math,arts,male_terms,female_terms,science,arts_2,male_terms_2,\\\n",
    "    female_terms_2,mental_disease,physical_disease,temporary,permanent,young_people_names,old_people_names,\\\n",
    "    adjectives_appearance,adjectives_otherization,adjectives_sensitive,names_asian,names_black,names_chinese,\\\n",
    "    names_hispanic,names_russian,names_white,words_christianity,words_islam,words_terrorism,male_occupations,female_occupations,\\\n",
    "    occupations_white,occupations_black,occupations_asian,occupations_hispanic,adjectives_intelligence,positive_words,negative_words = redefine_categories(df)"
   ]
  },
  {
   "cell_type": "code",
   "execution_count": 17,
   "metadata": {},
   "outputs": [],
   "source": [
    "gnW2V = gensim.models.KeyedVectors.load_word2vec_format(\n",
    "    'Pre-Trained Models\\GoogleNews-vectors-negative300.bin.gz', binary=True)\n",
    "gnW2V_WEM = WordEmbeddingModel(gnW2V, 'gnW2V')"
   ]
  },
  {
   "cell_type": "code",
   "execution_count": 85,
   "metadata": {},
   "outputs": [],
   "source": [
    "query = generate_query(male_terms_2, female_terms_2, positive_words, negative_words, \"male\", 'female', 'Positive', 'Negative')\n",
    "query2 = generate_query(male_terms, female_terms, positive_words, negative_words, \"male\", 'female', 'Positive', 'Negative')\n",
    "query3 = generate_query(male_terms_2, female_terms_2, pleasant_9, unpleasant_9, \"male\", 'female', 'pleasant_9', 'unpleasant_9')"
   ]
  },
  {
   "cell_type": "code",
   "execution_count": 44,
   "metadata": {},
   "outputs": [],
   "source": [
    "lost_vocabulary_threshold = 0.4"
   ]
  },
  {
   "cell_type": "code",
   "execution_count": 50,
   "metadata": {},
   "outputs": [
    {
     "name": "stdout",
     "output_type": "stream",
     "text": [
      "{'query_name': 'male and female wrt pleasant_9 and unpleasant_9', 'result': -0.670187527032259, 'weat': -0.1992784000467509, 'effect_size': -0.670187527032259, 'p_value': nan}\n"
     ]
    }
   ],
   "source": [
    "metric = WEAT()\n",
    "result = metric.run_query(\n",
    "    query3,\n",
    "    askmen_WEM,\n",
    "    return_effect_size=True, \n",
    "    lost_vocabulary_threshold= 0.4\n",
    "    )\n",
    "print(result)"
   ]
  },
  {
   "cell_type": "code",
   "execution_count": 51,
   "metadata": {},
   "outputs": [
    {
     "name": "stdout",
     "output_type": "stream",
     "text": [
      "{'query_name': 'male and female wrt pleasant_9 and unpleasant_9', 'result': -0.05520455539226532, 'weat': -0.05520455539226532, 'effect_size': -0.3552516282575932, 'p_value': nan}\n"
     ]
    }
   ],
   "source": [
    "metric = WEAT()\n",
    "result = metric.run_query(\n",
    "    query3,\n",
    "    gnW2V_WEM,\n",
    "    lost_vocabulary_threshold= 0.4 \n",
    "    )\n",
    "print(result)"
   ]
  },
  {
   "cell_type": "code",
   "execution_count": null,
   "metadata": {},
   "outputs": [],
   "source": []
  },
  {
   "cell_type": "code",
   "execution_count": 299,
   "metadata": {},
   "outputs": [],
   "source": [
    "# create the word sets\n",
    "target_sets = [['she', 'woman', 'girl'], ['he', 'man', 'boy']]\n",
    "target_sets_names = ['Female Terms', 'Male Terms']\n",
    "\n",
    "attribute_sets = [['poetry','dance','literature'], ['math', 'physics', 'chemistry']]\n",
    "attribute_sets_names = ['Arts', 'Science']\n",
    "\n",
    "# create the query\n",
    "query = Query(target_sets, attribute_sets, target_sets_names,\n",
    "              attribute_sets_names)"
   ]
  },
  {
   "cell_type": "code",
   "execution_count": 272,
   "metadata": {},
   "outputs": [],
   "source": [
    "query = generate_query(male_terms, female_terms, positive_words, negative_words, 'male_terms', 'female_terms', 'positive_words', 'negative_words')"
   ]
  },
  {
   "cell_type": "code",
   "execution_count": 16,
   "metadata": {},
   "outputs": [
    {
     "ename": "NameError",
     "evalue": "name 'gnW2V' is not defined",
     "output_type": "error",
     "traceback": [
      "\u001b[1;31m---------------------------------------------------------------------------\u001b[0m",
      "\u001b[1;31mNameError\u001b[0m                                 Traceback (most recent call last)",
      "\u001b[1;32m~\\AppData\\Local\\Temp/ipykernel_1588/3134925844.py\u001b[0m in \u001b[0;36m<module>\u001b[1;34m\u001b[0m\n\u001b[0;32m      1\u001b[0m \u001b[1;31m# instance a WEAT metric\u001b[0m\u001b[1;33m\u001b[0m\u001b[1;33m\u001b[0m\u001b[1;33m\u001b[0m\u001b[0m\n\u001b[0;32m      2\u001b[0m \u001b[0mweat\u001b[0m \u001b[1;33m=\u001b[0m \u001b[0mWEAT\u001b[0m\u001b[1;33m(\u001b[0m\u001b[1;33m)\u001b[0m\u001b[1;33m\u001b[0m\u001b[1;33m\u001b[0m\u001b[0m\n\u001b[1;32m----> 3\u001b[1;33m \u001b[0mresult\u001b[0m \u001b[1;33m=\u001b[0m \u001b[0mweat\u001b[0m\u001b[1;33m.\u001b[0m\u001b[0mrun_query\u001b[0m\u001b[1;33m(\u001b[0m\u001b[0mquery\u001b[0m\u001b[1;33m,\u001b[0m \u001b[0mgnW2V\u001b[0m\u001b[1;33m)\u001b[0m\u001b[1;33m\u001b[0m\u001b[1;33m\u001b[0m\u001b[0m\n\u001b[0m\u001b[0;32m      4\u001b[0m \u001b[0mprint\u001b[0m\u001b[1;33m(\u001b[0m\u001b[0mresult\u001b[0m\u001b[1;33m)\u001b[0m\u001b[1;33m\u001b[0m\u001b[1;33m\u001b[0m\u001b[0m\n",
      "\u001b[1;31mNameError\u001b[0m: name 'gnW2V' is not defined"
     ]
    }
   ],
   "source": [
    "# instance a WEAT metric\n",
    "weat = WEAT()\n",
    "result = weat.run_query(query, gnW2V)\n",
    "print(result)"
   ]
  },
  {
   "cell_type": "code",
   "execution_count": 15,
   "metadata": {},
   "outputs": [
    {
     "name": "stdout",
     "output_type": "stream",
     "text": [
      "{'query_name': 'male and female wrt Positive and Negative', 'result': -0.30275993958639447, 'weat': -0.30275993958639447, 'effect_size': -1.4835501673495626, 'p_value': nan}\n"
     ]
    }
   ],
   "source": [
    "metric = WEAT()\n",
    "askmen_WEM = WordEmbeddingModel(askmen_model, 'askmen')\n",
    "result = metric.run_query(\n",
    "    query,\n",
    "    askmen_WEM, \n",
    "    preprocessors=[{\"lowercase\": True, \"strip_accents\": True}],\n",
    "    warn_not_found_words=True,\n",
    "    p_value_iterations=1500000\n",
    "    )\n",
    "print(result)"
   ]
  },
  {
   "cell_type": "code",
   "execution_count": 113,
   "metadata": {},
   "outputs": [
    {
     "ename": "AttributeError",
     "evalue": "'dict' object has no attribute 'iloc'",
     "output_type": "error",
     "traceback": [
      "\u001b[1;31m---------------------------------------------------------------------------\u001b[0m",
      "\u001b[1;31mAttributeError\u001b[0m                            Traceback (most recent call last)",
      "\u001b[1;32m~\\AppData\\Local\\Temp/ipykernel_26416/2690570792.py\u001b[0m in \u001b[0;36m<module>\u001b[1;34m\u001b[0m\n\u001b[1;32m----> 1\u001b[1;33m \u001b[0mfilter_datasets\u001b[0m\u001b[1;33m(\u001b[0m\u001b[0mWEAT_wordsets\u001b[0m\u001b[1;33m,\u001b[0m \u001b[0maskmen_model\u001b[0m\u001b[1;33m)\u001b[0m\u001b[1;33m\u001b[0m\u001b[1;33m\u001b[0m\u001b[0m\n\u001b[0m",
      "\u001b[1;32m~\\AppData\\Local\\Temp/ipykernel_26416/173458156.py\u001b[0m in \u001b[0;36mfilter_datasets\u001b[1;34m(dataset, model)\u001b[0m\n\u001b[0;32m      3\u001b[0m \u001b[1;32mdef\u001b[0m \u001b[0mfilter_datasets\u001b[0m\u001b[1;33m(\u001b[0m\u001b[0mdataset\u001b[0m\u001b[1;33m,\u001b[0m \u001b[0mmodel\u001b[0m\u001b[1;33m)\u001b[0m\u001b[1;33m:\u001b[0m\u001b[1;33m\u001b[0m\u001b[1;33m\u001b[0m\u001b[0m\n\u001b[0;32m      4\u001b[0m     \u001b[1;32mfor\u001b[0m \u001b[0mi\u001b[0m \u001b[1;32min\u001b[0m \u001b[0mrange\u001b[0m\u001b[1;33m(\u001b[0m\u001b[0mlen\u001b[0m\u001b[1;33m(\u001b[0m\u001b[0mdataset\u001b[0m\u001b[1;33m)\u001b[0m\u001b[1;33m)\u001b[0m\u001b[1;33m:\u001b[0m\u001b[1;33m\u001b[0m\u001b[1;33m\u001b[0m\u001b[0m\n\u001b[1;32m----> 5\u001b[1;33m         \u001b[1;32mfor\u001b[0m \u001b[0mj\u001b[0m \u001b[1;32min\u001b[0m \u001b[0mrange\u001b[0m\u001b[1;33m(\u001b[0m\u001b[0mlen\u001b[0m\u001b[1;33m(\u001b[0m\u001b[0mdataset\u001b[0m\u001b[1;33m.\u001b[0m\u001b[0miloc\u001b[0m\u001b[1;33m[\u001b[0m\u001b[0mi\u001b[0m\u001b[1;33m]\u001b[0m\u001b[1;33m)\u001b[0m\u001b[1;33m)\u001b[0m\u001b[1;33m:\u001b[0m\u001b[1;33m\u001b[0m\u001b[1;33m\u001b[0m\u001b[0m\n\u001b[0m\u001b[0;32m      6\u001b[0m             \u001b[1;32mfor\u001b[0m \u001b[0mk\u001b[0m \u001b[1;32min\u001b[0m \u001b[0mrange\u001b[0m\u001b[1;33m(\u001b[0m\u001b[0mlen\u001b[0m\u001b[1;33m(\u001b[0m\u001b[0mdataset\u001b[0m\u001b[1;33m.\u001b[0m\u001b[0miloc\u001b[0m\u001b[1;33m[\u001b[0m\u001b[0mi\u001b[0m\u001b[1;33m]\u001b[0m\u001b[1;33m[\u001b[0m\u001b[0mj\u001b[0m\u001b[1;33m]\u001b[0m\u001b[1;33m)\u001b[0m\u001b[1;33m)\u001b[0m\u001b[1;33m:\u001b[0m\u001b[1;33m\u001b[0m\u001b[1;33m\u001b[0m\u001b[0m\n\u001b[0;32m      7\u001b[0m                 \u001b[1;32mif\u001b[0m \u001b[0mcheck_if_word_in_model\u001b[0m\u001b[1;33m(\u001b[0m\u001b[0mdataset\u001b[0m\u001b[1;33m.\u001b[0m\u001b[0miloc\u001b[0m\u001b[1;33m[\u001b[0m\u001b[0mi\u001b[0m\u001b[1;33m]\u001b[0m\u001b[1;33m[\u001b[0m\u001b[0mj\u001b[0m\u001b[1;33m]\u001b[0m\u001b[1;33m[\u001b[0m\u001b[0mk\u001b[0m\u001b[1;33m]\u001b[0m\u001b[1;33m,\u001b[0m \u001b[0mmodel\u001b[0m\u001b[1;33m)\u001b[0m\u001b[1;33m:\u001b[0m\u001b[1;33m\u001b[0m\u001b[1;33m\u001b[0m\u001b[0m\n",
      "\u001b[1;31mAttributeError\u001b[0m: 'dict' object has no attribute 'iloc'"
     ]
    }
   ],
   "source": [
    "filter_datasets(WEAT_wordsets, askmen_model)"
   ]
  },
  {
   "cell_type": "code",
   "execution_count": 256,
   "metadata": {},
   "outputs": [
    {
     "name": "stdout",
     "output_type": "stream",
     "text": [
      "<Query: Female terms and Male Terms wrt Family and Careers\n",
      "- Target sets: [['home', 'parents', 'children', 'family', 'cousins', 'marriage', 'wedding', 'relatives'], ['executive', 'management', 'professional', 'corporation', 'salary', 'office', 'business', 'career']]\n",
      "- Attribute sets:[['female', 'woman', 'girl', 'sister', 'she', 'her', 'hers', 'daughter'], ['male', 'man', 'boy', 'brother', 'he', 'him', 'his', 'son']]>\n"
     ]
    }
   ],
   "source": [
    "gender_query = Query(\n",
    "    target_sets=[\n",
    "        [\"female\", \"woman\", \"girl\", \"sister\", \"she\", \"her\", \"hers\", \"daughter\"],\n",
    "        [\"male\", \"man\", \"boy\", \"brother\", \"he\", \"him\", \"his\", \"son\"],\n",
    "    ],\n",
    "    attribute_sets=[\n",
    "        [\n",
    "            \"home\",\n",
    "            \"parents\",\n",
    "            \"children\",\n",
    "            \"family\",\n",
    "            \"cousins\",\n",
    "            \"marriage\",\n",
    "            \"wedding\",\n",
    "            \"relatives\",\n",
    "        ],\n",
    "        [\n",
    "            \"executive\",\n",
    "            \"management\",\n",
    "            \"professional\",\n",
    "            \"corporation\",\n",
    "            \"salary\",\n",
    "            \"office\",\n",
    "            \"business\",\n",
    "            \"career\",\n",
    "        ],\n",
    "    ],\n",
    "    target_sets_names=[\"Female terms\", \"Male Terms\"],\n",
    "    attribute_sets_names=[\"Family\", \"Careers\"],\n",
    ")\n",
    "\n",
    "print(gender_query)"
   ]
  },
  {
   "cell_type": "code",
   "execution_count": 44,
   "metadata": {},
   "outputs": [],
   "source": [
    "weat_result = run_queries(WEAT, queries, [askmen_model_2])"
   ]
  },
  {
   "cell_type": "code",
   "execution_count": 45,
   "metadata": {},
   "outputs": [
    {
     "data": {
      "text/html": [
       "<div>\n",
       "<style scoped>\n",
       "    .dataframe tbody tr th:only-of-type {\n",
       "        vertical-align: middle;\n",
       "    }\n",
       "\n",
       "    .dataframe tbody tr th {\n",
       "        vertical-align: top;\n",
       "    }\n",
       "\n",
       "    .dataframe thead th {\n",
       "        text-align: right;\n",
       "    }\n",
       "</style>\n",
       "<table border=\"1\" class=\"dataframe\">\n",
       "  <thead>\n",
       "    <tr style=\"text-align: right;\">\n",
       "      <th>query_name</th>\n",
       "      <th>White last names and Black last names wrt Pleasant and Unpleasant</th>\n",
       "      <th>White last names and Asian last names wrt Pleasant and Unpleasant</th>\n",
       "      <th>White last names and Hispanic last names wrt Pleasant and Unpleasant</th>\n",
       "      <th>White last names and Black last names wrt Occupations white and Occupations black</th>\n",
       "      <th>White last names and Asian last names wrt Occupations white and Occupations asian</th>\n",
       "      <th>White last names and Hispanic last names wrt Occupations white and Occupations hispanic</th>\n",
       "      <th>White last names and Black last names wrt Positive words and Negative words</th>\n",
       "      <th>White last names and Asian last names wrt Positive words and Negative words</th>\n",
       "      <th>White last names and Hispanic last names wrt Positive words and Negative words</th>\n",
       "      <th>Christianity terms and Islam terms wrt Pleasant and Unpleasant</th>\n",
       "      <th>...</th>\n",
       "      <th>Christianity terms and Islam terms wrt Positive words and Negative words</th>\n",
       "      <th>Christianity terms and Jew terms wrt Positive words and Negative words</th>\n",
       "      <th>Islam terms and Jew terms wrt Positive words and Negative words</th>\n",
       "      <th>Male terms and Female terms wrt Career and Family</th>\n",
       "      <th>Male terms and Female terms wrt Math and Arts</th>\n",
       "      <th>Male terms and Female terms wrt Science and Arts</th>\n",
       "      <th>Male terms and Female terms wrt Intelligence and Appearence</th>\n",
       "      <th>Male terms and Female terms wrt Intelligence and Sensitive</th>\n",
       "      <th>Male terms and Female terms wrt Positive words and Negative words</th>\n",
       "      <th>Male terms and Female terms wrt Man Roles and Woman Roles</th>\n",
       "    </tr>\n",
       "    <tr>\n",
       "      <th>model_name</th>\n",
       "      <th></th>\n",
       "      <th></th>\n",
       "      <th></th>\n",
       "      <th></th>\n",
       "      <th></th>\n",
       "      <th></th>\n",
       "      <th></th>\n",
       "      <th></th>\n",
       "      <th></th>\n",
       "      <th></th>\n",
       "      <th></th>\n",
       "      <th></th>\n",
       "      <th></th>\n",
       "      <th></th>\n",
       "      <th></th>\n",
       "      <th></th>\n",
       "      <th></th>\n",
       "      <th></th>\n",
       "      <th></th>\n",
       "      <th></th>\n",
       "      <th></th>\n",
       "    </tr>\n",
       "  </thead>\n",
       "  <tbody>\n",
       "    <tr>\n",
       "      <th>Unnamed model</th>\n",
       "      <td>0.043696</td>\n",
       "      <td>NaN</td>\n",
       "      <td>NaN</td>\n",
       "      <td>NaN</td>\n",
       "      <td>NaN</td>\n",
       "      <td>NaN</td>\n",
       "      <td>NaN</td>\n",
       "      <td>NaN</td>\n",
       "      <td>NaN</td>\n",
       "      <td>0.044951</td>\n",
       "      <td>...</td>\n",
       "      <td>NaN</td>\n",
       "      <td>NaN</td>\n",
       "      <td>NaN</td>\n",
       "      <td>NaN</td>\n",
       "      <td>NaN</td>\n",
       "      <td>NaN</td>\n",
       "      <td>NaN</td>\n",
       "      <td>NaN</td>\n",
       "      <td>NaN</td>\n",
       "      <td>NaN</td>\n",
       "    </tr>\n",
       "  </tbody>\n",
       "</table>\n",
       "<p>1 rows × 25 columns</p>\n",
       "</div>"
      ],
      "text/plain": [
       "query_name     White last names and Black last names wrt Pleasant and Unpleasant  \\\n",
       "model_name                                                                         \n",
       "Unnamed model                                           0.043696                   \n",
       "\n",
       "query_name     White last names and Asian last names wrt Pleasant and Unpleasant  \\\n",
       "model_name                                                                         \n",
       "Unnamed model                                                NaN                   \n",
       "\n",
       "query_name     White last names and Hispanic last names wrt Pleasant and Unpleasant  \\\n",
       "model_name                                                                            \n",
       "Unnamed model                                                NaN                      \n",
       "\n",
       "query_name     White last names and Black last names wrt Occupations white and Occupations black  \\\n",
       "model_name                                                                                         \n",
       "Unnamed model                                                NaN                                   \n",
       "\n",
       "query_name     White last names and Asian last names wrt Occupations white and Occupations asian  \\\n",
       "model_name                                                                                         \n",
       "Unnamed model                                                NaN                                   \n",
       "\n",
       "query_name     White last names and Hispanic last names wrt Occupations white and Occupations hispanic  \\\n",
       "model_name                                                                                               \n",
       "Unnamed model                                                NaN                                         \n",
       "\n",
       "query_name     White last names and Black last names wrt Positive words and Negative words  \\\n",
       "model_name                                                                                   \n",
       "Unnamed model                                                NaN                             \n",
       "\n",
       "query_name     White last names and Asian last names wrt Positive words and Negative words  \\\n",
       "model_name                                                                                   \n",
       "Unnamed model                                                NaN                             \n",
       "\n",
       "query_name     White last names and Hispanic last names wrt Positive words and Negative words  \\\n",
       "model_name                                                                                      \n",
       "Unnamed model                                                NaN                                \n",
       "\n",
       "query_name     Christianity terms and Islam terms wrt Pleasant and Unpleasant  \\\n",
       "model_name                                                                      \n",
       "Unnamed model                                           0.044951                \n",
       "\n",
       "query_name     ...  \\\n",
       "model_name     ...   \n",
       "Unnamed model  ...   \n",
       "\n",
       "query_name     Christianity terms and Islam terms wrt Positive words and Negative words  \\\n",
       "model_name                                                                                \n",
       "Unnamed model                                                NaN                          \n",
       "\n",
       "query_name     Christianity terms and Jew terms wrt Positive words and Negative words  \\\n",
       "model_name                                                                              \n",
       "Unnamed model                                                NaN                        \n",
       "\n",
       "query_name     Islam terms and Jew terms wrt Positive words and Negative words  \\\n",
       "model_name                                                                       \n",
       "Unnamed model                                                NaN                 \n",
       "\n",
       "query_name     Male terms and Female terms wrt Career and Family  \\\n",
       "model_name                                                         \n",
       "Unnamed model                                                NaN   \n",
       "\n",
       "query_name     Male terms and Female terms wrt Math and Arts  \\\n",
       "model_name                                                     \n",
       "Unnamed model                                            NaN   \n",
       "\n",
       "query_name     Male terms and Female terms wrt Science and Arts  \\\n",
       "model_name                                                        \n",
       "Unnamed model                                               NaN   \n",
       "\n",
       "query_name     Male terms and Female terms wrt Intelligence and Appearence  \\\n",
       "model_name                                                                   \n",
       "Unnamed model                                                NaN             \n",
       "\n",
       "query_name     Male terms and Female terms wrt Intelligence and Sensitive  \\\n",
       "model_name                                                                  \n",
       "Unnamed model                                                NaN            \n",
       "\n",
       "query_name     Male terms and Female terms wrt Positive words and Negative words  \\\n",
       "model_name                                                                         \n",
       "Unnamed model                                                NaN                   \n",
       "\n",
       "query_name     Male terms and Female terms wrt Man Roles and Woman Roles  \n",
       "model_name                                                                \n",
       "Unnamed model                                                NaN          \n",
       "\n",
       "[1 rows x 25 columns]"
      ]
     },
     "execution_count": 45,
     "metadata": {},
     "output_type": "execute_result"
    }
   ],
   "source": [
    "weat_result"
   ]
  },
  {
   "cell_type": "code",
   "execution_count": null,
   "metadata": {},
   "outputs": [],
   "source": []
  }
 ],
 "metadata": {
  "interpreter": {
   "hash": "415b51a014e6e0beb5722367d9da13b1dc115eed8d1c27ed06a75270ca49036a"
  },
  "kernelspec": {
   "display_name": "Python 3.8.12 64-bit ('NLP': conda)",
   "language": "python",
   "name": "python3"
  },
  "language_info": {
   "codemirror_mode": {
    "name": "ipython",
    "version": 3
   },
   "file_extension": ".py",
   "mimetype": "text/x-python",
   "name": "python",
   "nbconvert_exporter": "python",
   "pygments_lexer": "ipython3",
   "version": "3.8.12"
  },
  "orig_nbformat": 4
 },
 "nbformat": 4,
 "nbformat_minor": 2
}
